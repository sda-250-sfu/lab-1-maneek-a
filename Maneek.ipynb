{
 "cells": [
  {
   "cell_type": "code",
   "execution_count": 1,
   "metadata": {},
   "outputs": [
    {
     "name": "stdout",
     "output_type": "stream",
     "text": [
      "Welcome to SDA 250!\n"
     ]
    }
   ],
   "source": [
    "print(\"Welcome to SDA 250!\")"
   ]
  },
  {
   "cell_type": "markdown",
   "metadata": {},
   "source": [
    "I am taking this course as it is required for the Social Data Analytics minor.\n",
    "- How to organize various text\n",
    "- Managing a lot of data\n",
    "- Basic programming skills that I can build on"
   ]
  },
  {
   "cell_type": "code",
   "execution_count": 2,
   "metadata": {},
   "outputs": [
    {
     "name": "stdout",
     "output_type": "stream",
     "text": [
      "I do not have any programming experience\n"
     ]
    }
   ],
   "source": [
    "print(\"I do not have any programming experience\")"
   ]
  },
  {
   "cell_type": "code",
   "execution_count": 3,
   "metadata": {},
   "outputs": [
    {
     "name": "stdout",
     "output_type": "stream",
     "text": [
      "Hello world!\n"
     ]
    }
   ],
   "source": [
    "print(\"Hello world!\")"
   ]
  },
  {
   "cell_type": "code",
   "execution_count": 8,
   "metadata": {},
   "outputs": [
    {
     "name": "stdout",
     "output_type": "stream",
     "text": [
      "sam\n",
      "21\n"
     ]
    }
   ],
   "source": [
    "name = \"sam\"\n",
    "age = 21\n",
    "\n",
    "print(name)\n",
    "print (age)"
   ]
  },
  {
   "cell_type": "code",
   "execution_count": 12,
   "metadata": {},
   "outputs": [
    {
     "name": "stdout",
     "output_type": "stream",
     "text": [
      "gender\n",
      "education\n",
      "income\n",
      "female\n",
      "undergraduate degree\n",
      "30 000\n"
     ]
    }
   ],
   "source": [
    "gender = \"female\"\n",
    "education = \"undergraduate degree\"\n",
    "income = \"30 000\"\n",
    "\n",
    "print (\"gender\")\n",
    "print (\"education\")\n",
    "print (\"income\")\n",
    "\n",
    "print (gender)\n",
    "print (education)\n",
    "print (income)\n",
    "\n",
    "# with the quotations i think it will print gender, education, income.\n",
    "# without the quotations i think it will print female, graduate degree, and 30 000."
   ]
  },
  {
   "cell_type": "code",
   "execution_count": 13,
   "metadata": {},
   "outputs": [
    {
     "name": "stdout",
     "output_type": "stream",
     "text": [
      "3\n"
     ]
    }
   ],
   "source": [
    "# this will print: 3\n",
    "print(1+2)"
   ]
  },
  {
   "cell_type": "code",
   "execution_count": 14,
   "metadata": {},
   "outputs": [
    {
     "name": "stdout",
     "output_type": "stream",
     "text": [
      "12\n"
     ]
    }
   ],
   "source": [
    "# this will print: 12\n",
    "print (3*4)"
   ]
  },
  {
   "cell_type": "code",
   "execution_count": 15,
   "metadata": {},
   "outputs": [
    {
     "name": "stdout",
     "output_type": "stream",
     "text": [
      "5\n"
     ]
    }
   ],
   "source": [
    "x = 10\n",
    "y = 5\n",
    "\n",
    "# this will print: 5\n",
    "print(x-y)"
   ]
  },
  {
   "cell_type": "code",
   "execution_count": 16,
   "metadata": {},
   "outputs": [
    {
     "name": "stdout",
     "output_type": "stream",
     "text": [
      "15\n",
      "number2\n",
      "5.0\n"
     ]
    }
   ],
   "source": [
    "number1 = 15\n",
    "number2 = 3\n",
    "result = number1 / number2\n",
    "\n",
    "# this will print: 15\n",
    "print(number1)\n",
    "\n",
    "# this will print: number2\n",
    "print(\"number2\")\n",
    "\n",
    "# this will print: 5\n",
    "print(result)"
   ]
  },
  {
   "cell_type": "code",
   "execution_count": 17,
   "metadata": {},
   "outputs": [
    {
     "name": "stdout",
     "output_type": "stream",
     "text": [
      "TaylorWilliams\n"
     ]
    }
   ],
   "source": [
    "firstName = \"Taylor\"\n",
    "lastName = \"Williams\"\n",
    "fullName = firstName + lastName\n",
    "\n",
    "#this will print: Taylor Williams\n",
    "print(fullName)"
   ]
  },
  {
   "cell_type": "code",
   "execution_count": 22,
   "metadata": {},
   "outputs": [
    {
     "name": "stdout",
     "output_type": "stream",
     "text": [
      "Taylor Williams\n",
      "Taylor Williams\n"
     ]
    }
   ],
   "source": [
    "fullName = firstName + \" \" + lastName\n",
    "\n",
    "print(fullName)\n",
    "\n",
    "print (firstName + \" \" + lastName)"
   ]
  },
  {
   "cell_type": "code",
   "execution_count": 43,
   "metadata": {},
   "outputs": [
    {
     "name": "stdout",
     "output_type": "stream",
     "text": [
      "Maneek Atwal\n",
      "Maneek (she/her)\n",
      "My favourite number is 13\n",
      "20\n",
      "10\n",
      "260\n",
      "6.5\n"
     ]
    }
   ],
   "source": [
    "firstName = \"Maneek\"\n",
    "lastName = \"Atwal\"\n",
    "preferredName = \"Maneek\"\n",
    "preferredPronouns = \"(she/her)\"\n",
    "favouriteNumber = \"13\"\n",
    "\n",
    "fullName = firstName + \" \" + lastName\n",
    "x = \" \" + favouriteNumber\n",
    "namePronouns = preferredName + \" \" + (preferredPronouns)\n",
    "\n",
    "print(fullName)\n",
    "print(namePronouns)\n",
    "print (\"My favourite number is\" + x)\n",
    "print (13 + 7)\n",
    "print (13 - 3)\n",
    "print (13 * 20)\n",
    "print (13 / 2)"
   ]
  },
  {
   "cell_type": "code",
   "execution_count": 46,
   "metadata": {},
   "outputs": [
    {
     "name": "stdout",
     "output_type": "stream",
     "text": [
      "When dealing with data it is important to consider what that data was intended for. Oftentimes, data is given to one source under certain assumptions but because it is publicly avaliable to some degree it is given for secondary use. This significantly impacts the trust people have with various corporations and institutions. Another thing to consider is how revelaing combining different types of data is. While on its own one data set may seem harmless, when it is combined with others it can reveal a lot more about an individual than they thought would be revealed.\n"
     ]
    }
   ],
   "source": [
    "# What are two ethical considerations when dealing with data?\n",
    "\n",
    "print (\"When dealing with data it is important to consider what that data was intended for. Oftentimes, data is given to one source under certain assumptions but because it is publicly avaliable to some degree it is given for secondary use. This significantly impacts the trust people have with various corporations and institutions. Another thing to consider is how revelaing combining different types of data is. While on its own one data set may seem harmless, when it is combined with others it can reveal a lot more about an individual than they thought would be revealed.\")\n"
   ]
  }
 ],
 "metadata": {
  "kernelspec": {
   "display_name": "Python 3",
   "language": "python",
   "name": "python3"
  },
  "language_info": {
   "codemirror_mode": {
    "name": "ipython",
    "version": 3
   },
   "file_extension": ".py",
   "mimetype": "text/x-python",
   "name": "python",
   "nbconvert_exporter": "python",
   "pygments_lexer": "ipython3",
   "version": "3.8.5"
  }
 },
 "nbformat": 4,
 "nbformat_minor": 4
}
